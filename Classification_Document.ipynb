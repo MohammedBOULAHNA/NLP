{
 "cells": [
  {
   "cell_type": "markdown",
   "metadata": {},
   "source": [
    "\n",
    "# Classification\n"
   ]
  },
  {
   "cell_type": "markdown",
   "metadata": {},
   "source": [
    "# 1.\tObjectif : "
   ]
  },
  {
   "cell_type": "markdown",
   "metadata": {},
   "source": [
    "L’objectif de cet atelier est de découvrir la classification de documents texte à travers le classificateur SVM que nous allons appliquer sur un dataset contenant les news apparus sur le fil de presse Reuters en 1987.\n",
    "\n",
    "Le datset peut être téléchargé à partir de ce lien : https://archive.ics.uci.edu/ml/datasets/reuters-21578+text+categorization+collection. \n",
    "\n",
    "Le dataset est disponible egalement sur nltk :\n"
   ]
  },
  {
   "cell_type": "code",
   "execution_count": 2,
   "metadata": {},
   "outputs": [
    {
     "name": "stderr",
     "output_type": "stream",
     "text": [
      "[nltk_data] Downloading package reuters to /home/mohcin/nltk_data...\n",
      "[nltk_data]   Package reuters is already up-to-date!\n"
     ]
    },
    {
     "data": {
      "text/plain": [
       "True"
      ]
     },
     "execution_count": 2,
     "metadata": {},
     "output_type": "execute_result"
    }
   ],
   "source": [
    "import nltk\n",
    "nltk.download('reuters')"
   ]
  },
  {
   "cell_type": "markdown",
   "metadata": {},
   "source": [
    "Le dataset est disponible également sur scikitlearn \n"
   ]
  },
  {
   "cell_type": "code",
   "execution_count": null,
   "metadata": {},
   "outputs": [],
   "source": [
    "from sklearn.datasets import fetch_rcv1"
   ]
  },
  {
   "cell_type": "markdown",
   "metadata": {},
   "source": [
    "# 2.\tChargement des données "
   ]
  },
  {
   "cell_type": "markdown",
   "metadata": {},
   "source": [
    "Nous considerons le dataset reuters à partir de NLTK."
   ]
  },
  {
   "cell_type": "code",
   "execution_count": 3,
   "metadata": {},
   "outputs": [],
   "source": [
    "from nltk.corpus import reuters\n",
    "#recuperation du vocabulaire du corpus\n",
    "vocabulaire=reuters.words()\n",
    "\n",
    "#recuperation de toutes les categories\n",
    "categories=reuters.categories()\n",
    "\n",
    "#recuperation de tous les id des fichiers appartenant à une categorie bien determinée\n",
    "ids_coffe=reuters.fileids(\"coffee\")\n",
    "\n",
    "#recuperation des mots contenus dans les documents d'une categorie bien determinee\n",
    "coffe_words=reuters.words(reuters.fileids(\"coffee\"))\n",
    "\n",
    "#recuperation du texte brut des documents d'une categorie bien determinee\n",
    "cofee_docs=reuters.raw(reuters.fileids(\"coffee\")[0])\n",
    "\n",
    "#recuperation de toutes les autres classe d'un document annoté avec une classe bien determinee\n",
    "classes_Annotated_coffee=reuters.categories(reuters.fileids(\"coffee\"))\n",
    "\n",
    "#recuperer le dataset d'apprentissage\n",
    "train_categories=[ reuters.categories(i) for i in reuters.fileids() if i.startswith('training/')]\n",
    "train_documents = [reuters.raw(i) for i in reuters.fileids() if i.startswith('training/')]\n",
    "\n",
    "#recuperer le dataset de test\n",
    "test_documents=[reuters.raw(i)  for i in reuters.fileids() if i.startswith('test/')]\n",
    "test_categories = [reuters.categories(i) for i in reuters.fileids() if i.startswith('test/')]\n",
    "\n",
    "# recuperer tout le corpus\n",
    "whole_docs=[reuters.raw(i)for i in reuters.fileids()]\n",
    "whole_cats = [ reuters.categories(i) for i in reuters.fileids()]\n"
   ]
  },
  {
   "cell_type": "markdown",
   "metadata": {},
   "source": [
    "# 3.\tPrétraitements \n",
    "\n"
   ]
  },
  {
   "cell_type": "raw",
   "metadata": {},
   "source": [
    "Récupération des représentations vectorielles en TF-IDF \n"
   ]
  },
  {
   "cell_type": "code",
   "execution_count": 4,
   "metadata": {},
   "outputs": [
    {
     "name": "stdout",
     "output_type": "stream",
     "text": [
      "(10788, 90)\n"
     ]
    }
   ],
   "source": [
    "#TF-IDF\n",
    "#fit(raw_documents[, y]): Learn vocabulary and idf from training set.\n",
    "#fit_transform(raw_documents[, y]): Learn vocabulary and idf, return document-term matrix.\n",
    "#transform(raw_documents): Transform documents to document-term matrix.\n",
    "\n",
    "from sklearn.feature_extraction.text import TfidfVectorizer\n",
    "vectorizer = TfidfVectorizer(stop_words = 'english')\n",
    "\n",
    "vect_whole_docs = vectorizer.fit_transform(whole_docs)\n",
    "vect_train_docs = vectorizer.transform(train_documents)\n",
    "vect_test_docs = vectorizer.transform(test_documents)\n",
    "\n",
    "#recuperer des labels uniques pour les categories\n",
    "from sklearn.preprocessing import MultiLabelBinarizer\n",
    "mlb = MultiLabelBinarizer()\n",
    "train_labels = mlb.fit_transform(train_categories)\n",
    "test_labels = mlb.transform(test_categories)\n",
    "whole_labels = mlb.fit_transform(whole_cats)\n",
    "\n",
    "print(whole_labels.shape)"
   ]
  },
  {
   "cell_type": "markdown",
   "metadata": {},
   "source": [
    "# 4.\tClassification avec SVM"
   ]
  },
  {
   "cell_type": "code",
   "execution_count": 5,
   "metadata": {},
   "outputs": [
    {
     "name": "stdout",
     "output_type": "stream",
     "text": [
      "              precision    recall  f1-score   support\n",
      "\n",
      "           0       0.99      0.95      0.97       719\n",
      "           1       1.00      0.43      0.61        23\n",
      "           2       1.00      0.64      0.78        14\n",
      "           3       0.95      0.60      0.73        30\n",
      "           4       0.88      0.39      0.54        18\n",
      "           5       0.00      0.00      0.00         1\n",
      "           6       1.00      0.94      0.97        18\n",
      "           7       1.00      0.50      0.67         2\n",
      "           8       0.00      0.00      0.00         3\n",
      "           9       0.96      0.96      0.96        28\n",
      "          10       1.00      0.78      0.88        18\n",
      "          11       0.00      0.00      0.00         1\n",
      "          12       0.95      0.71      0.82        56\n",
      "          13       1.00      0.50      0.67        20\n",
      "          14       0.00      0.00      0.00         2\n",
      "          15       0.92      0.43      0.59        28\n",
      "          16       0.00      0.00      0.00         1\n",
      "          17       0.91      0.81      0.86       189\n",
      "          18       0.00      0.00      0.00         1\n",
      "          19       0.85      0.66      0.74        44\n",
      "          20       0.00      0.00      0.00         4\n",
      "          21       0.99      0.98      0.99      1087\n",
      "          22       1.00      0.20      0.33        10\n",
      "          23       1.00      0.53      0.69        17\n",
      "          24       1.00      0.80      0.89        35\n",
      "          25       0.92      0.73      0.81        30\n",
      "          26       0.98      0.81      0.89       149\n",
      "          27       0.00      0.00      0.00         4\n",
      "          28       0.00      0.00      0.00         1\n",
      "          29       1.00      0.60      0.75         5\n",
      "          30       1.00      0.33      0.50         6\n",
      "          31       1.00      0.75      0.86         4\n",
      "          32       1.00      0.43      0.60         7\n",
      "          33       0.00      0.00      0.00         1\n",
      "          34       0.88      0.66      0.75       131\n",
      "          35       1.00      0.83      0.91        12\n",
      "          36       0.75      0.64      0.69        14\n",
      "          37       0.00      0.00      0.00         1\n",
      "          38       0.92      0.57      0.71        21\n",
      "          39       0.00      0.00      0.00         2\n",
      "          40       0.00      0.00      0.00        14\n",
      "          41       1.00      1.00      1.00         3\n",
      "          42       0.00      0.00      0.00         1\n",
      "          43       0.69      0.38      0.49        24\n",
      "          44       0.00      0.00      0.00         6\n",
      "          45       1.00      0.16      0.27        19\n",
      "          46       0.81      0.73      0.76       179\n",
      "          47       0.89      0.74      0.81        34\n",
      "          48       0.00      0.00      0.00         4\n",
      "          49       0.74      0.47      0.57        30\n",
      "          50       0.00      0.00      0.00         1\n",
      "          51       0.00      0.00      0.00         2\n",
      "          52       0.00      0.00      0.00         2\n",
      "          53       1.00      0.17      0.29         6\n",
      "          54       0.79      0.47      0.59        47\n",
      "          55       1.00      0.45      0.62        11\n",
      "          56       0.00      0.00      0.00         1\n",
      "          57       1.00      0.60      0.75        10\n",
      "          58       0.00      0.00      0.00         1\n",
      "          59       0.00      0.00      0.00        12\n",
      "          60       0.00      0.00      0.00         7\n",
      "          61       1.00      0.33      0.50         3\n",
      "          62       0.00      0.00      0.00         3\n",
      "          63       0.00      0.00      0.00         1\n",
      "          64       0.00      0.00      0.00         3\n",
      "          65       1.00      0.44      0.62         9\n",
      "          66       0.91      0.56      0.69        18\n",
      "          67       1.00      0.50      0.67         2\n",
      "          68       0.88      0.29      0.44        24\n",
      "          69       1.00      0.75      0.86        12\n",
      "          70       0.00      0.00      0.00         1\n",
      "          71       0.89      0.63      0.74        89\n",
      "          72       0.00      0.00      0.00         8\n",
      "          73       0.75      0.30      0.43        10\n",
      "          74       1.00      0.15      0.27        13\n",
      "          75       0.00      0.00      0.00        11\n",
      "          76       0.83      0.45      0.59        33\n",
      "          77       0.00      0.00      0.00        11\n",
      "          78       0.96      0.72      0.83        36\n",
      "          79       0.00      0.00      0.00         1\n",
      "          80       0.00      0.00      0.00         2\n",
      "          81       1.00      0.20      0.33         5\n",
      "          82       0.00      0.00      0.00         4\n",
      "          83       1.00      0.58      0.74        12\n",
      "          84       0.87      0.75      0.81       117\n",
      "          85       0.94      0.43      0.59        37\n",
      "          86       0.93      0.75      0.83        71\n",
      "          87       1.00      0.60      0.75        10\n",
      "          88       0.00      0.00      0.00        14\n",
      "          89       1.00      0.46      0.63        13\n",
      "\n",
      "   micro avg       0.95      0.78      0.86      3744\n",
      "   macro avg       0.59      0.36      0.43      3744\n",
      "weighted avg       0.91      0.78      0.83      3744\n",
      " samples avg       0.87      0.85      0.86      3744\n",
      "\n",
      "0.8042398145081153\n"
     ]
    },
    {
     "name": "stderr",
     "output_type": "stream",
     "text": [
      "/home/mohcin/anaconda3/lib/python3.7/site-packages/sklearn/metrics/_classification.py:1248: UndefinedMetricWarning: Precision and F-score are ill-defined and being set to 0.0 in labels with no predicted samples. Use `zero_division` parameter to control this behavior.\n",
      "  _warn_prf(average, modifier, msg_start, len(result))\n",
      "/home/mohcin/anaconda3/lib/python3.7/site-packages/sklearn/metrics/_classification.py:1248: UndefinedMetricWarning: Precision and F-score are ill-defined and being set to 0.0 in samples with no predicted labels. Use `zero_division` parameter to control this behavior.\n",
      "  _warn_prf(average, modifier, msg_start, len(result))\n"
     ]
    }
   ],
   "source": [
    "#SVM\n",
    "import numpy as np\n",
    "from sklearn.multiclass import OneVsRestClassifier\n",
    "from sklearn.svm import LinearSVC\n",
    "from sklearn.metrics import classification_report\n",
    "\n",
    "classifier_svm = OneVsRestClassifier(LinearSVC())\n",
    "classifier_svm.fit(vect_train_docs,train_labels)\n",
    "test_labels_predict=classifier_svm.predict(vect_test_docs)\n",
    "print(classification_report(test_labels,test_labels_predict))\n",
    "scores=classifier_svm.score(vect_test_docs,test_labels)\n",
    "print(scores)"
   ]
  },
  {
   "cell_type": "markdown",
   "metadata": {},
   "source": [
    "# 5.\tClassification  SVM avec cross validation"
   ]
  },
  {
   "cell_type": "code",
   "execution_count": 6,
   "metadata": {},
   "outputs": [
    {
     "name": "stderr",
     "output_type": "stream",
     "text": [
      "/home/mohcin/anaconda3/lib/python3.7/site-packages/sklearn/multiclass.py:81: UserWarning: Label not 5 is present in all training examples.\n",
      "  str(classes[c]))\n",
      "/home/mohcin/anaconda3/lib/python3.7/site-packages/sklearn/metrics/_classification.py:1248: UndefinedMetricWarning: Precision is ill-defined and being set to 0.0 in samples with no predicted labels. Use `zero_division` parameter to control this behavior.\n",
      "  _warn_prf(average, modifier, msg_start, len(result))\n",
      "/home/mohcin/anaconda3/lib/python3.7/site-packages/sklearn/metrics/_classification.py:1248: UndefinedMetricWarning: Precision is ill-defined and being set to 0.0 in samples with no predicted labels. Use `zero_division` parameter to control this behavior.\n",
      "  _warn_prf(average, modifier, msg_start, len(result))\n"
     ]
    },
    {
     "name": "stdout",
     "output_type": "stream",
     "text": [
      "1.5013306140899658\n",
      "[0.1101234  0.1072247  0.10513854]\n",
      "[0.86598999 0.87977382 0.88399611]\n",
      "[0.84546102 0.86121606 0.86284829]\n",
      "[0.8475128  0.86216063 0.86600443]\n"
     ]
    },
    {
     "name": "stderr",
     "output_type": "stream",
     "text": [
      "/home/mohcin/anaconda3/lib/python3.7/site-packages/sklearn/metrics/_classification.py:1248: UndefinedMetricWarning: Precision is ill-defined and being set to 0.0 in samples with no predicted labels. Use `zero_division` parameter to control this behavior.\n",
      "  _warn_prf(average, modifier, msg_start, len(result))\n"
     ]
    }
   ],
   "source": [
    "from sklearn.model_selection import cross_val_score\n",
    "from sklearn.model_selection import cross_validate\n",
    "from sklearn.metrics import recall_score\n",
    "scoring = ['precision_samples', 'recall_samples', 'f1_samples']\n",
    "scores_svm = cross_validate(classifier_svm, vect_whole_docs, whole_labels, cv=3, scoring=scoring)\n",
    "print(scores_svm['fit_time'].mean())\n",
    "print(scores_svm['score_time'])\n",
    "print(scores_svm['test_precision_samples'])\n",
    "print(scores_svm['test_recall_samples'])\n",
    "print(scores_svm['test_f1_samples'])\n",
    "\n",
    "\n"
   ]
  },
  {
   "cell_type": "markdown",
   "metadata": {},
   "source": [
    "# 6.\tExercice\n"
   ]
  },
  {
   "cell_type": "markdown",
   "metadata": {},
   "source": [
    "Q1. Réaliser le même processus avec le KNN et comparer les performances obtenues avec SVM.\n",
    "\n",
    "Q2. Réaliser le même processus avec une méthode ensembliste et comparer les performances obtenues avec KNN et SVM. \n",
    "\n",
    "NB: There is no multi-label version of AdaBoost and the label should be the shape of samples number. \n",
    "\n"
   ]
  },
  {
   "cell_type": "markdown",
   "metadata": {},
   "source": [
    "## Q1 : KNN"
   ]
  },
  {
   "cell_type": "code",
   "execution_count": 7,
   "metadata": {},
   "outputs": [
    {
     "name": "stderr",
     "output_type": "stream",
     "text": [
      "/home/mohcin/anaconda3/lib/python3.7/site-packages/sklearn/multiclass.py:81: UserWarning: Label not 5 is present in all training examples.\n",
      "  str(classes[c]))\n",
      "/home/mohcin/anaconda3/lib/python3.7/site-packages/sklearn/metrics/_classification.py:1248: UndefinedMetricWarning: Precision is ill-defined and being set to 0.0 in samples with no predicted labels. Use `zero_division` parameter to control this behavior.\n",
      "  _warn_prf(average, modifier, msg_start, len(result))\n",
      "/home/mohcin/anaconda3/lib/python3.7/site-packages/sklearn/metrics/_classification.py:1248: UndefinedMetricWarning: Precision is ill-defined and being set to 0.0 in samples with no predicted labels. Use `zero_division` parameter to control this behavior.\n",
      "  _warn_prf(average, modifier, msg_start, len(result))\n"
     ]
    },
    {
     "name": "stdout",
     "output_type": "stream",
     "text": [
      "[0.32884479 0.32779479 0.43443036]\n",
      "[103.13968492 116.36768055 131.13470197]\n",
      "[0.80500093 0.81952368 0.82848999]\n",
      "[0.79271524 0.80640769 0.81499286]\n",
      "[0.7895614  0.80409413 0.81370121]\n"
     ]
    },
    {
     "name": "stderr",
     "output_type": "stream",
     "text": [
      "/home/mohcin/anaconda3/lib/python3.7/site-packages/sklearn/metrics/_classification.py:1248: UndefinedMetricWarning: Precision is ill-defined and being set to 0.0 in samples with no predicted labels. Use `zero_division` parameter to control this behavior.\n",
      "  _warn_prf(average, modifier, msg_start, len(result))\n"
     ]
    }
   ],
   "source": [
    "from sklearn.model_selection import cross_val_score\n",
    "from sklearn.model_selection import cross_validate\n",
    "from sklearn.metrics import recall_score\n",
    "from sklearn.neighbors import KNeighborsClassifier\n",
    "\n",
    "classifier_knn = OneVsRestClassifier(KNeighborsClassifier())\n",
    "scoring = ['precision_samples', 'recall_samples', 'f1_samples']\n",
    "scores_knn = cross_validate(classifier_knn, vect_whole_docs, whole_labels, cv=3, scoring=scoring)\n",
    "print(scores_knn['fit_time'])\n",
    "print(scores_knn['score_time'])\n",
    "print(scores_knn['test_precision_samples'])\n",
    "print(scores_knn['test_recall_samples'])\n",
    "print(scores_knn['test_f1_samples'])"
   ]
  },
  {
   "cell_type": "markdown",
   "metadata": {},
   "source": [
    "## Q2 : LGBMClassifier"
   ]
  },
  {
   "cell_type": "code",
   "execution_count": 9,
   "metadata": {},
   "outputs": [
    {
     "name": "stderr",
     "output_type": "stream",
     "text": [
      "/home/mohcin/anaconda3/lib/python3.7/site-packages/sklearn/multiclass.py:81: UserWarning: Label not 5 is present in all training examples.\n",
      "  str(classes[c]))\n",
      "/home/mohcin/anaconda3/lib/python3.7/site-packages/sklearn/metrics/_classification.py:1248: UndefinedMetricWarning: Precision is ill-defined and being set to 0.0 in samples with no predicted labels. Use `zero_division` parameter to control this behavior.\n",
      "  _warn_prf(average, modifier, msg_start, len(result))\n",
      "/home/mohcin/anaconda3/lib/python3.7/site-packages/sklearn/metrics/_classification.py:1248: UndefinedMetricWarning: Precision is ill-defined and being set to 0.0 in samples with no predicted labels. Use `zero_division` parameter to control this behavior.\n",
      "  _warn_prf(average, modifier, msg_start, len(result))\n",
      "/home/mohcin/anaconda3/lib/python3.7/site-packages/sklearn/metrics/_classification.py:1248: UndefinedMetricWarning: Precision is ill-defined and being set to 0.0 in samples with no predicted labels. Use `zero_division` parameter to control this behavior.\n",
      "  _warn_prf(average, modifier, msg_start, len(result))\n"
     ]
    },
    {
     "name": "stdout",
     "output_type": "stream",
     "text": [
      "[216.5671947  224.40684271 229.89791465]\n",
      "[0.86417866 1.01126099 0.91599703]\n",
      "[0.79261889 0.81948086 0.80516281]\n",
      "[0.85709963 0.87537509 0.86848951]\n",
      "[0.80489487 0.83033783 0.81912777]\n"
     ]
    }
   ],
   "source": [
    "from lightgbm import LGBMClassifier\n",
    "\n",
    "classifier_lgbm = OneVsRestClassifier(LGBMClassifier())\n",
    "scoring = ['precision_samples', 'recall_samples', 'f1_samples']\n",
    "scores_lgbm = cross_validate(classifier_lgbm, vect_whole_docs, whole_labels, cv=3, scoring=scoring)\n",
    "print(scores_lgbm['fit_time'])\n",
    "print(scores_lgbm['score_time'])\n",
    "print(scores_lgbm['test_precision_samples'])\n",
    "print(scores_lgbm['test_recall_samples'])\n",
    "print(scores_lgbm['test_f1_samples'])"
   ]
  },
  {
   "cell_type": "markdown",
   "metadata": {},
   "source": [
    "## Comparaison"
   ]
  },
  {
   "cell_type": "code",
   "execution_count": 11,
   "metadata": {},
   "outputs": [
    {
     "data": {
      "text/html": [
       "<div>\n",
       "<style scoped>\n",
       "    .dataframe tbody tr th:only-of-type {\n",
       "        vertical-align: middle;\n",
       "    }\n",
       "\n",
       "    .dataframe tbody tr th {\n",
       "        vertical-align: top;\n",
       "    }\n",
       "\n",
       "    .dataframe thead th {\n",
       "        text-align: right;\n",
       "    }\n",
       "</style>\n",
       "<table border=\"1\" class=\"dataframe\">\n",
       "  <thead>\n",
       "    <tr style=\"text-align: right;\">\n",
       "      <th></th>\n",
       "      <th>SVM</th>\n",
       "      <th>KNN</th>\n",
       "      <th>LGBM</th>\n",
       "    </tr>\n",
       "  </thead>\n",
       "  <tbody>\n",
       "    <tr>\n",
       "      <th>fit_time</th>\n",
       "      <td>1.501331</td>\n",
       "      <td>0.363690</td>\n",
       "      <td>223.623984</td>\n",
       "    </tr>\n",
       "    <tr>\n",
       "      <th>score_time</th>\n",
       "      <td>0.107496</td>\n",
       "      <td>116.880689</td>\n",
       "      <td>0.930479</td>\n",
       "    </tr>\n",
       "    <tr>\n",
       "      <th>test_precision_samples</th>\n",
       "      <td>0.876587</td>\n",
       "      <td>0.817672</td>\n",
       "      <td>0.805754</td>\n",
       "    </tr>\n",
       "    <tr>\n",
       "      <th>test_recall_samples</th>\n",
       "      <td>0.856508</td>\n",
       "      <td>0.804705</td>\n",
       "      <td>0.866988</td>\n",
       "    </tr>\n",
       "    <tr>\n",
       "      <th>test_f1_samples</th>\n",
       "      <td>0.858559</td>\n",
       "      <td>0.802452</td>\n",
       "      <td>0.818120</td>\n",
       "    </tr>\n",
       "  </tbody>\n",
       "</table>\n",
       "</div>"
      ],
      "text/plain": [
       "                             SVM         KNN        LGBM\n",
       "fit_time                1.501331    0.363690  223.623984\n",
       "score_time              0.107496  116.880689    0.930479\n",
       "test_precision_samples  0.876587    0.817672    0.805754\n",
       "test_recall_samples     0.856508    0.804705    0.866988\n",
       "test_f1_samples         0.858559    0.802452    0.818120"
      ]
     },
     "execution_count": 11,
     "metadata": {},
     "output_type": "execute_result"
    }
   ],
   "source": [
    "import pandas as pd\n",
    "\n",
    "score_svm_list = [\n",
    "    scores_svm['fit_time'].mean(),\n",
    "    scores_svm['score_time'].mean(),\n",
    "    scores_svm['test_precision_samples'].mean(),\n",
    "    scores_svm['test_recall_samples'].mean(),\n",
    "    scores_svm['test_f1_samples'].mean(),\n",
    "]\n",
    "\n",
    "score_knn_list = [\n",
    "    scores_knn['fit_time'].mean(),\n",
    "    scores_knn['score_time'].mean(),\n",
    "    scores_knn['test_precision_samples'].mean(),\n",
    "    scores_knn['test_recall_samples'].mean(),\n",
    "    scores_knn['test_f1_samples'].mean(),\n",
    "]\n",
    "\n",
    "score_lgbm_list = [\n",
    "    scores_lgbm['fit_time'].mean(),\n",
    "    scores_lgbm['score_time'].mean(),\n",
    "    scores_lgbm['test_precision_samples'].mean(),\n",
    "    scores_lgbm['test_recall_samples'].mean(),\n",
    "    scores_lgbm['test_f1_samples'].mean(),\n",
    "]\n",
    "\n",
    "score_df = pd.DataFrame(list(zip(score_svm_list, score_knn_list, score_lgbm_list)),\n",
    "        ['fit_time','score_time','test_precision_samples','test_recall_samples','test_f1_samples'],\n",
    "        [\"SVM\",\"KNN\",\"LGBM\"])\n",
    "score_df.head()"
   ]
  },
  {
   "cell_type": "markdown",
   "metadata": {},
   "source": [
    "on remarque que SVM nous donne en général des score plus elevés"
   ]
  },
  {
   "cell_type": "code",
   "execution_count": null,
   "metadata": {},
   "outputs": [],
   "source": []
  }
 ],
 "metadata": {
  "kernelspec": {
   "display_name": "Python 3 (ipykernel)",
   "language": "python",
   "name": "python3"
  },
  "language_info": {
   "codemirror_mode": {
    "name": "ipython",
    "version": 3
   },
   "file_extension": ".py",
   "mimetype": "text/x-python",
   "name": "python",
   "nbconvert_exporter": "python",
   "pygments_lexer": "ipython3",
   "version": "3.9.7"
  }
 },
 "nbformat": 4,
 "nbformat_minor": 4
}
